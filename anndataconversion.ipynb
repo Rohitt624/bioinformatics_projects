{
 "cells": [
  {
   "cell_type": "code",
   "execution_count": 12,
   "id": "ebae2089",
   "metadata": {},
   "outputs": [],
   "source": [
    "import scanpy as sc\n",
    "import h5py\n",
    "\n",
    "import os\n",
    "os.chdir(\"C:/Users/rthalla/OneDrive - Loyola University Chicago/Zhang Lab/MDS Project/RNA Seq/GSE263300\")\n",
    "\n",
    "# Load the .h5ad file\n",
    "adata = sc.read_h5ad(\"GSE263300_filtered_ad.h5ad\")"
   ]
  },
  {
   "cell_type": "code",
   "execution_count": 13,
   "id": "ce95c8ab",
   "metadata": {},
   "outputs": [],
   "source": [
    "import pandas as pd\n",
    "\n",
    "# Export expression matrix (genes x cells)\n",
    "if hasattr(adata.X, \"toarray\"):\n",
    "\texpr = pd.DataFrame(adata.X.T.toarray(), index=adata.var_names, columns=adata.obs_names)\n",
    "else:\n",
    "\texpr = pd.DataFrame(adata.X.T, index=adata.var_names, columns=adata.obs_names)\n",
    "expr.to_csv(\"expression_matrix.csv\")\n",
    "\n",
    "# Export cell metadata\n",
    "adata.obs.to_csv(\"cell_metadata.csv\")\n",
    "\n",
    "# Export gene metadata\n",
    "adata.var.to_csv(\"gene_metadata.csv\")"
   ]
  },
  {
   "cell_type": "code",
   "execution_count": 9,
   "id": "41f6e2e8",
   "metadata": {},
   "outputs": [
    {
     "name": "stdout",
     "output_type": "stream",
     "text": [
      "(20248, 30267)\n",
      "30267\n",
      "20248\n",
      "AnnData object with n_obs × n_vars = 20248 × 30267\n",
      "    obs: 'dataset', 'n_genes', 'n_genes_by_counts', 'total_counts', 'total_counts_mt', 'pct_counts_mt', 'doublet_score', 'predicted_doublet'\n",
      "    var: 'n_cells', 'mt', 'n_cells_by_counts', 'mean_counts', 'pct_dropout_by_counts', 'total_counts'\n",
      "    uns: 'scrublet'\n"
     ]
    }
   ],
   "source": [
    "print(adata.X.shape)\n",
    "print(len(adata.var_names))\n",
    "print(len(adata.obs_names))\n",
    "print(adata)"
   ]
  }
 ],
 "metadata": {
  "kernelspec": {
   "display_name": "Python 3",
   "language": "python",
   "name": "python3"
  },
  "language_info": {
   "codemirror_mode": {
    "name": "ipython",
    "version": 3
   },
   "file_extension": ".py",
   "mimetype": "text/x-python",
   "name": "python",
   "nbconvert_exporter": "python",
   "pygments_lexer": "ipython3",
   "version": "3.13.3"
  }
 },
 "nbformat": 4,
 "nbformat_minor": 5
}
